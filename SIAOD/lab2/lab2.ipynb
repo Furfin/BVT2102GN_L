{
 "cells": [
  {
   "cell_type": "markdown",
   "id": "fifteen-sailing",
   "metadata": {
    "id": "fifteen-sailing"
   },
   "source": [
    "# Лабораторная работа №2\n",
    "## Выполнил студент группы Голованов Никита Андреевич БВТ2102"
   ]
  },
  {
   "cell_type": "markdown",
   "id": "arctic-stocks",
   "metadata": {
    "id": "arctic-stocks"
   },
   "source": [
    "Реализовать следующие структуры данных:\n",
    "  \n",
    "● <b> Стек (stack): </b>  \n",
    "Операции для стека: \n",
    "<i> инициализация, проверка на пустоту, добавление нового элемента в начало, извлечение элемента из начала;  </i>  \n",
    "  \n",
    "● <b> Дек (двусторонняя очередь, deque):  </b>  \n",
    "Операции для дека: \n",
    "<i> инициализация, проверка на пустоту, добавление нового элемента в начало, добавление нового элемента в конец, извлечение элемента из начала, извлечение элемента из конца. </i>  \n",
    "  \n",
    "<i> Разработать программу обработки данных, содержащихся в заранее подготовленном txt-файле, в соответствии с заданиями, применив указанную в задании структуру данных. Результат работы программы вывести на экран и сохранить в отдельном txt-файле. </i>"
   ]
  },
  {
   "cell_type": "code",
   "execution_count": 1,
   "id": "8bc9a0c5",
   "metadata": {},
   "outputs": [],
   "source": [
    "import typing\n",
    "\n",
    "class Deque:\n",
    "    def __init__(self):\n",
    "        self.items = []\n",
    "\n",
    "    def isEmpty(self):\n",
    "        return self.items == []\n",
    "\n",
    "    def addRear(self, item):\n",
    "        self.items.append(item)\n",
    "\n",
    "    def addFront(self, item):\n",
    "        self.items.insert(0, item)\n",
    "\n",
    "    def removeFront(self):\n",
    "        return self.items.pop(0)\n",
    "\n",
    "    def removeRear(self):\n",
    "        return self.items.pop()\n",
    "\n",
    "    def size(self):\n",
    "        return len(self.items)\n",
    "\n",
    "\n",
    "def create_stack():\n",
    "    stack = []\n",
    "    return stack\n",
    "\n",
    "def check_empty(stack):\n",
    "    return len(stack) == 0\n",
    "\n",
    "def push(stack, item):\n",
    "    stack.append(item)\n",
    "\n",
    "def pop(stack):\n",
    "    if (check_empty(stack)):\n",
    "        return \"Стек пуст\"\n",
    "\n",
    "    return stack.pop()"
   ]
  },
  {
   "cell_type": "markdown",
   "id": "5d7edb08",
   "metadata": {
    "id": "5d7edb08",
    "scrolled": true
   },
   "source": [
    "### Задание №1\n",
    "Отсортировать строки файла, содержащие названия книг, в алфавитном порядке с использованием двух деков."
   ]
  },
  {
   "cell_type": "code",
   "execution_count": 2,
   "id": "7bdfb882",
   "metadata": {},
   "outputs": [
    {
     "name": "stdout",
     "output_type": "stream",
     "text": [
      "True\n"
     ]
    }
   ],
   "source": [
    "file = open(\"books.txt\", 'r')\n",
    "books = file.readlines()\n",
    "books = list(map(str.lower,books))\n",
    "\n",
    "def is_lower(str1: str, str2: str)->bool:\n",
    "    for i in range(min(len(str1),len(str2))):\n",
    "        if( str1[i].lower() < str2[i].lower() ):\n",
    "            return True\n",
    "        elif ( str1[i].lower() != str2[i].lower() ):\n",
    "            return False\n",
    "    return True\n",
    "\n",
    "temp = Deque()\n",
    "sort = Deque()\n",
    "sort.addFront(books[0])\n",
    "for i in range(1, len(books)):\n",
    "    if ( books[i] <= sort.items[0] ):\n",
    "        sort.addFront(books[i])\n",
    "    elif ( books[i] > sort.items[-1] ):\n",
    "        sort.addRear(books[i])\n",
    "    else:\n",
    "        while(books[i] > sort.items[0]):\n",
    "            temp.addFront(sort.removeFront())\n",
    "        sort.addFront(books[i])\n",
    "        while(not temp.isEmpty()):\n",
    "            sort.addFront(temp.removeFront())\n",
    "    \n",
    "print(sort.items == sorted(books))\n",
    "f = open(\"task1.txt\", \"a\")\n",
    "for book in sort.items:\n",
    "    f.write(book)\n",
    "f.close()\n",
    "file.close()\n"
   ]
  },
  {
   "cell_type": "markdown",
   "id": "49fbd2a0",
   "metadata": {
    "id": "49fbd2a0"
   },
   "source": [
    "### Задание №2\n",
    "Дек содержит последовательность символов для шифровки сообщений. Дан текстовый файл, содержащий зашифрованное сообщение. Пользуясь деком, расшифровать текст. \n",
    "Известно, что при шифровке каждый символ сообщения заменялся следующим за ним в деке по часовой стрелке через один."
   ]
  },
  {
   "cell_type": "code",
   "execution_count": 3,
   "id": "81cab7a8",
   "metadata": {
    "id": "81cab7a8"
   },
   "outputs": [
    {
     "name": "stdout",
     "output_type": "stream",
     "text": [
      "мороз и солнце; день чудесный!\n"
     ]
    }
   ],
   "source": [
    "alphabet = \"абвгдеёжзийклмнопрстуфхцчшщъыьэюя\"\n",
    "cypher = Deque()\n",
    "[cypher.addFront(a) for a in alphabet]\n",
    "\n",
    "\n",
    "def apply_shift(simbol: chr, shift: int, cypher: Deque) -> chr:\n",
    "    if ( simbol not in cypher.items ):\n",
    "        return simbol\n",
    "    sim = cypher.removeFront()\n",
    "    cypher.addRear(sim)\n",
    "    while( sim != simbol):\n",
    "        sim = cypher.removeFront()\n",
    "        cypher.addRear(sim)    \n",
    "    for i in range(shift+1):\n",
    "        answer = cypher.removeRear()\n",
    "        cypher.addFront(answer)\n",
    "    return answer\n",
    "\n",
    "file = open(\"message.txt\", 'r')\n",
    "answ = \"\"\n",
    "\n",
    "for char in file.read():\n",
    "    answ += apply_shift(char.lower(), 1, cypher)\n",
    "\n",
    "print(answ)\n",
    "file.close()\n",
    "\n",
    "\n"
   ]
  },
  {
   "cell_type": "markdown",
   "id": "c0894f47",
   "metadata": {
    "id": "c0894f47"
   },
   "source": [
    "### Задание №3\n",
    "Даны три стержня и n дисков различного размера. Диски можно надевать на стержни, образуя из них башни. Перенести n дисков со стержня А на стержень С, сохранив их первоначальный порядок. При переносе дисков необходимо соблюдать следующие правила:\n",
    "- на каждом шаге со стержня на стержень переносить только один диск;\n",
    "- диск нельзя помещать на диск меньшего размера;\n",
    "- для промежуточного хранения можно использовать стержень В.\n",
    "Реализовать алгоритм, используя три стека вместо стержней А, В, С. Информация о дисках хранится в исходном файле."
   ]
  },
  {
   "cell_type": "code",
   "execution_count": 4,
   "id": "9e91a9d4",
   "metadata": {
    "id": "9e91a9d4"
   },
   "outputs": [
    {
     "name": "stdout",
     "output_type": "stream",
     "text": [
      "[] [] [4, 3, 2, 1]\n"
     ]
    }
   ],
   "source": [
    "A = create_stack()\n",
    "B = create_stack()\n",
    "C = create_stack()\n",
    "\n",
    "def init_hanoi():\n",
    "    with open(\"hanoi.txt\") as f:\n",
    "        n = int(f.read())\n",
    "    [push(A,i) for i in range(n,0,-1)]\n",
    "    Hanoi(n ,A, B, C)\n",
    "    print(A,B,C)\n",
    "\n",
    "def Hanoi(n, A, B, C):\n",
    "    if (n<=0):\n",
    "        return\n",
    "    else:\n",
    "        Hanoi(n-1,A,C,B)\n",
    "        push(C,pop(A))\n",
    "        Hanoi(n-1,B,A,C)\n",
    "\n",
    "init_hanoi()"
   ]
  },
  {
   "cell_type": "markdown",
   "id": "e5b0be17",
   "metadata": {
    "id": "e5b0be17"
   },
   "source": [
    "### Задание №4\n",
    "Дан текстовый файл с программой на алгоритмическом языке. За один просмотр файла проверить баланс круглых скобок в тексте, используя стек."
   ]
  },
  {
   "cell_type": "code",
   "execution_count": 5,
   "id": "5b1df60a",
   "metadata": {
    "id": "5b1df60a"
   },
   "outputs": [
    {
     "name": "stdout",
     "output_type": "stream",
     "text": [
      "correct\n"
     ]
    }
   ],
   "source": [
    "brackets = create_stack()\n",
    "status = 1\n",
    "\n",
    "\n",
    "with open('task4.txt') as f:\n",
    "    for char in f.read():\n",
    "        if ( char == '(' ):\n",
    "            push(brackets,1)\n",
    "        elif ( char == ')' ):\n",
    "            if ( check_empty(brackets) ):\n",
    "                status = 0\n",
    "                break\n",
    "            else:\n",
    "                pop(brackets)\n",
    "    if( not check_empty(brackets) ):\n",
    "        status = 0\n",
    "    \n",
    "    if(status):\n",
    "        print(\"correct\")\n",
    "    else:\n",
    "        print('incorrect')\n",
    "    \n",
    "        "
   ]
  },
  {
   "cell_type": "markdown",
   "id": "c44cdd6b",
   "metadata": {
    "id": "c44cdd6b"
   },
   "source": [
    "### Задание №5\n",
    "Дан текстовый файл с программой на алгоритмическом языке. За один просмотр файла проверить баланс квадратных скобок в тексте, используя дек."
   ]
  },
  {
   "cell_type": "code",
   "execution_count": 6,
   "id": "36b8f400",
   "metadata": {
    "id": "36b8f400"
   },
   "outputs": [
    {
     "name": "stdout",
     "output_type": "stream",
     "text": [
      "correct\n"
     ]
    }
   ],
   "source": [
    "brackets = Deque()\n",
    "\n",
    "status = 1\n",
    "\n",
    "with open('task5.txt') as f:\n",
    "    for char in f.read():\n",
    "        if ( char == '(' ):\n",
    "            brackets.addFront(1)\n",
    "        elif ( char == ')' ):\n",
    "            if ( brackets.isEmpty() ):\n",
    "                status = 0\n",
    "                break\n",
    "            else:\n",
    "                brackets.removeRear()\n",
    "    if( not brackets.isEmpty() ):\n",
    "        status = 0\n",
    "    \n",
    "    if(status):\n",
    "        print(\"correct\")\n",
    "    else:\n",
    "        print('incorrect')"
   ]
  },
  {
   "cell_type": "markdown",
   "id": "59d13dc7",
   "metadata": {
    "id": "59d13dc7"
   },
   "source": [
    "### Задание №6\n",
    "Дан файл из символов. Используя стек, за один просмотр файла напечатать сначала все цифры, затем все буквы, и, наконец, все остальные символы, сохраняя исходный порядок в каждой группе символов."
   ]
  },
  {
   "cell_type": "code",
   "execution_count": 7,
   "id": "297e36c2",
   "metadata": {
    "id": "297e36c2"
   },
   "outputs": [
    {
     "name": "stdout",
     "output_type": "stream",
     "text": [
      "210000112\n",
      "includesshuntingyardhbriefEndofprogramstatusflagintstatusbriefEndofprogramfunctionexpressionflagintxflagenumASSOCNONEASSOCLEFTASSOCRIGHTStructthatrepresentsoperationsCanbeusedtoapplysaidoperationstoargumentsparamopCharacterrepresentationofoperationparamprecRepresentshierarchyofoperationsparamassocUsedwhenparsingoperationsandchangeshowoperationisappliedonargumentsparamunaryorRepresentsunaryoperationsparamevalStoresevalfunctionofoperatorstructoperatortypecharopintprecintassocintunarydoubleevaldoubleadoublea # \"__.\"\n",
      "//! @     \n",
      "  = ;\n",
      "//! @      \n",
      " _ = ;\n",
      " { _ = , _, _ };\n",
      "\n",
      "/**\n",
      " *    .        \n",
      " * .\n",
      " *\n",
      " *\n",
      " * @     \n",
      " * @     \n",
      " * @          \n",
      " *   \n",
      " * @    .   \n",
      " * @      \n",
      " *\n",
      " */\n",
      " _ {\n",
      "   ;\n",
      "   ;\n",
      "   ;\n",
      "   ;\n",
      "   (*)( ,  );\n",
      "};\n",
      "\n",
      "\n"
     ]
    }
   ],
   "source": [
    "letter_stack = create_stack()\n",
    "other_stack = create_stack()\n",
    "\n",
    "with open('task6.txt') as f:\n",
    "    for char in f.read():\n",
    "        if(char.isnumeric()):\n",
    "            print(char, end=\"\")\n",
    "        elif(char.isalpha()):\n",
    "            push(letter_stack, char)\n",
    "        else:\n",
    "            push(other_stack, char)\n",
    "\n",
    "letters = \"\"\n",
    "while(not check_empty(letter_stack)):\n",
    "   letters+=(letter_stack.pop())\n",
    "\n",
    "other = \"\"\n",
    "while(not check_empty(other_stack)):\n",
    "    other+=(other_stack.pop())\n",
    "\n",
    "print('\\n'+letters[::-1],other[::-1])"
   ]
  },
  {
   "cell_type": "markdown",
   "id": "973f68bd",
   "metadata": {
    "id": "973f68bd"
   },
   "source": [
    "### Задание №7\n",
    "Дан файл из целых чисел. Используя дек, за один просмотр файла напечатать сначала все отрицательные числа, затем все положительные числа, сохраняя исходный порядок в каждой группе."
   ]
  },
  {
   "cell_type": "code",
   "execution_count": 8,
   "id": "c56fad66",
   "metadata": {
    "id": "c56fad66"
   },
   "outputs": [
    {
     "name": "stdout",
     "output_type": "stream",
     "text": [
      "[-4, -3, -8, 3, 0, -3, 5, 9, 4, -8, 0, 2, 8, -7, 0, 0, 5, -10, -4]\n",
      "-4\n",
      "-3\n",
      "-8\n",
      "-3\n",
      "-8\n",
      "-7\n",
      "-10\n",
      "-4\n",
      "3\n",
      "0\n",
      "5\n",
      "9\n",
      "4\n",
      "0\n",
      "2\n",
      "8\n",
      "0\n",
      "0\n",
      "5\n"
     ]
    }
   ],
   "source": [
    "with open(\"task7.txt\", 'r') as f:\n",
    "    arr = list(map(int,f.read().split()))\n",
    "print(arr)\n",
    "d =  Deque()\n",
    "for num in arr:\n",
    "    if(num>=0):\n",
    "        d.addFront(num)\n",
    "    else:\n",
    "        d.addRear(num)\n",
    "\n",
    "nums = []\n",
    "while(not d.isEmpty()):\n",
    "    num = d.removeRear()\n",
    "    if (num < 0 ):\n",
    "        nums.append(num)\n",
    "    else:\n",
    "        [print(i) for i in nums[::-1]]\n",
    "        print(num)\n",
    "        break\n",
    "while(not d.isEmpty()):\n",
    "    print(d.removeRear())\n",
    "    "
   ]
  },
  {
   "cell_type": "markdown",
   "id": "b9228191",
   "metadata": {
    "id": "b9228191"
   },
   "source": [
    "### Задание №8\n",
    "Дан текстовый файл. Используя стек, сформировать новый текстовый файл, содержащий строки исходного файла, записанные в обратном порядке: первая строка становится последней, вторая – предпоследней и т.д."
   ]
  },
  {
   "cell_type": "code",
   "execution_count": 9,
   "id": "981fbdfe",
   "metadata": {
    "id": "981fbdfe"
   },
   "outputs": [],
   "source": [
    "stack = create_stack()\n",
    "\n",
    "with open(\"task8.txt\", 'r') as f:\n",
    "    line = f.readline()\n",
    "    while(line):\n",
    "        push(stack, line)\n",
    "        line = f.readline()\n",
    "with open(\"task8answ.txt\",\"a\") as f:\n",
    "    while(not check_empty(stack)):\n",
    "        f.write(pop(stack))"
   ]
  },
  {
   "cell_type": "markdown",
   "id": "rental-jerusalem",
   "metadata": {
    "id": "rental-jerusalem"
   },
   "source": [
    "### Вывод\n"
   ]
  },
  {
   "cell_type": "markdown",
   "id": "0c2b8899",
   "metadata": {
    "id": "0c2b8899"
   },
   "source": []
  }
 ],
 "metadata": {
  "colab": {
   "provenance": [
    {
     "file_id": "1SJnopeql2j1MhzcaJ8o68KaPzPnynIeK",
     "timestamp": 1676536264821
    }
   ]
  },
  "kernelspec": {
   "display_name": "Python 3 (ipykernel)",
   "language": "python",
   "name": "python3"
  },
  "language_info": {
   "codemirror_mode": {
    "name": "ipython",
    "version": 3
   },
   "file_extension": ".py",
   "mimetype": "text/x-python",
   "name": "python",
   "nbconvert_exporter": "python",
   "pygments_lexer": "ipython3",
   "version": "3.10.6"
  },
  "vscode": {
   "interpreter": {
    "hash": "31f2aee4e71d21fbe5cf8b01ff0e069b9275f58929596ceb00d14d90e3e16cd6"
   }
  }
 },
 "nbformat": 4,
 "nbformat_minor": 5
}
